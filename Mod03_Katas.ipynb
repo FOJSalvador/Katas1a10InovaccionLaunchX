{
 "cells": [
  {
   "cell_type": "markdown",
   "metadata": {},
   "source": [
    "# Asteroide a la vista"
   ]
  },
  {
   "cell_type": "markdown",
   "metadata": {},
   "source": [
    "Caso 1"
   ]
  },
  {
   "cell_type": "code",
   "execution_count": 1,
   "metadata": {},
   "outputs": [
    {
     "name": "stdout",
     "output_type": "stream",
     "text": [
      "¡Alerta! ¡Un asteroide se acerca a velocidades peligrosas!\n"
     ]
    }
   ],
   "source": [
    "# Añadir el código necesario para crear una variable que guarde la velocidad del asteroide(49 Kms/s).\n",
    "# Escribe una expresión de prueba para calcular si necesita una advertencia.\n",
    "# Agregue las instrucciones que se ejecutarán si la expresión de prueba es true o false.\n",
    "\n",
    "Vel_asteroide = 49\n",
    "if Vel_asteroide > 25:\n",
    "    print('¡Alerta! ¡Un asteroide se acerca a velocidades peligrosas!')\n",
    "else:\n",
    "    print('¡Sigue con tu día!')"
   ]
  },
  {
   "cell_type": "markdown",
   "metadata": {},
   "source": [
    "Caso 2"
   ]
  },
  {
   "cell_type": "code",
   "execution_count": 6,
   "metadata": {},
   "outputs": [
    {
     "name": "stdout",
     "output_type": "stream",
     "text": [
      "Look up! ¡Hay una luz mágica en el cielo!, viaja a mas de 20 Km/s\n"
     ]
    }
   ],
   "source": [
    "# Agrega el código para crear una variable para un asteroide que viaja a 19 km/s\n",
    "# Escribe varias expresiones de prueba para determinar si puedes ver el rayo de luz desde la tierra\n",
    "# Agrega las instrucciones que se ejecutarán si las expresiones de prueba son True o False\n",
    "\n",
    "Vel_asteroide = 19\n",
    "if Vel_asteroide > 20:\n",
    "    print('Look up! ¡Hay una luz mágica en el cielo!, viaja a mas de 20 Km/s')\n",
    "elif Vel_asteroide == 20:\n",
    "    print('Look up! ¡Hay una luz mágica en el cielo!, viaja a 20 Km/s')\n",
    "else:\n",
    "    print('¡ Vayan a casa, no hay nada que ver aquí!')"
   ]
  },
  {
   "cell_type": "markdown",
   "metadata": {},
   "source": [
    "Caso 3"
   ]
  },
  {
   "cell_type": "code",
   "execution_count": 13,
   "metadata": {},
   "outputs": [
    {
     "name": "stdout",
     "output_type": "stream",
     "text": [
      "El asteroide de tamaño 6 Km A la velocidad de 14 Km/s algo podria pasar!\n"
     ]
    }
   ],
   "source": [
    "# Agrega el código para crear nuevas variables para la velocidad y el tamaño del asteroide\n",
    "# Para probar el código, prueba con varias velocidades y tamaños\n",
    "# Escribe varias expresiones de prueba o combinaciones de expresiones de prueba para determinar qué mensaje se debe enviar a Tierra.\n",
    "\n",
    "Vel_asteroide = 14\n",
    "Tam_asteroide = 6\n",
    "\n",
    "if Vel_asteroide > 30 and Tam_asteroide > 15:\n",
    "    print('El asteroide de tamaño ' + str(Tam_asteroide) + ' Km A la velocidad de ' + str(Vel_asteroide) + ' Km/s producira Aniquilación TOTAL!')\n",
    "elif Vel_asteroide > 15 and Tam_asteroide > 10 and Tam_asteroide < 20:\n",
    "    print('El asteroide de tamaño ' + str(Tam_asteroide) + ' Km A la velocidad de ' + str(Vel_asteroide) + ' Km/s producira un problemita!')\n",
    "elif Vel_asteroide < 15 and Tam_asteroide < 10 and Tam_asteroide > 5:\n",
    "    print('El asteroide de tamaño ' + str(Tam_asteroide) + ' Km A la velocidad de ' + str(Vel_asteroide) + ' Km/s algo podria pasar!')\n",
    "else:\n",
    "    print('El asteroide de tamaño ' + str(Tam_asteroide) + ' Km A la velocidad de ' + str(Vel_asteroide) + ' Km/s Ninguna novedad!')"
   ]
  }
 ],
 "metadata": {
  "interpreter": {
   "hash": "b89b5cfaba6639976dc87ff2fec6d58faec662063367e2c229c520fe71072417"
  },
  "kernelspec": {
   "display_name": "Python 3.10.2 64-bit",
   "language": "python",
   "name": "python3"
  },
  "language_info": {
   "codemirror_mode": {
    "name": "ipython",
    "version": 3
   },
   "file_extension": ".py",
   "mimetype": "text/x-python",
   "name": "python",
   "nbconvert_exporter": "python",
   "pygments_lexer": "ipython3",
   "version": "3.10.2"
  },
  "orig_nbformat": 4
 },
 "nbformat": 4,
 "nbformat_minor": 2
}
