{
 "cells": [
  {
   "cell_type": "markdown",
   "metadata": {},
   "source": [
    "# Uso de While y For"
   ]
  },
  {
   "cell_type": "markdown",
   "metadata": {},
   "source": [
    "Ejercicio 1"
   ]
  },
  {
   "cell_type": "code",
   "execution_count": 8,
   "metadata": {},
   "outputs": [
    {
     "name": "stdout",
     "output_type": "stream",
     "text": [
      "['Mercurio', 'Marte', 'tIERRA', 'Venus']\n"
     ]
    }
   ],
   "source": [
    "# Uso de While sale hasta que el usuario teclea Done, como entrada en la solicitud de escritura del planeta\n",
    "\n",
    "planeta = ''\n",
    "planetas = []\n",
    "\n",
    "while planeta.lower() != 'done':\n",
    "    if planeta:\n",
    "        planetas.append(planeta)\n",
    "    planeta = input('Teclea un nuevo Planeta, para salir teclea done ')\n",
    "    \n",
    "# Se agrego esta linea para ver la lista que creo el usuario\n",
    "print(planetas)"
   ]
  },
  {
   "cell_type": "markdown",
   "metadata": {},
   "source": [
    "Ejercicio 2"
   ]
  },
  {
   "cell_type": "code",
   "execution_count": 9,
   "metadata": {},
   "outputs": [
    {
     "name": "stdout",
     "output_type": "stream",
     "text": [
      "Mercurio\n",
      "Marte\n",
      "tIERRA\n",
      "Venus\n"
     ]
    }
   ],
   "source": [
    "# Ciclo for que enlista los planetas del ejercicio 1\n",
    "\n",
    "for planeta in planetas:\n",
    "    print(planeta)"
   ]
  }
 ],
 "metadata": {
  "interpreter": {
   "hash": "b89b5cfaba6639976dc87ff2fec6d58faec662063367e2c229c520fe71072417"
  },
  "kernelspec": {
   "display_name": "Python 3.10.2 64-bit",
   "language": "python",
   "name": "python3"
  },
  "language_info": {
   "codemirror_mode": {
    "name": "ipython",
    "version": 3
   },
   "file_extension": ".py",
   "mimetype": "text/x-python",
   "name": "python",
   "nbconvert_exporter": "python",
   "pygments_lexer": "ipython3",
   "version": "3.10.2"
  },
  "orig_nbformat": 4
 },
 "nbformat": 4,
 "nbformat_minor": 2
}
