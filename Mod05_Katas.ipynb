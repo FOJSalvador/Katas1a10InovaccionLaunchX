{
 "cells": [
  {
   "cell_type": "markdown",
   "metadata": {},
   "source": [
    "# Operadores matemáticos"
   ]
  },
  {
   "cell_type": "markdown",
   "metadata": {},
   "source": [
    "Caso 1"
   ]
  },
  {
   "cell_type": "code",
   "execution_count": 2,
   "metadata": {},
   "outputs": [
    {
     "name": "stdout",
     "output_type": "stream",
     "text": [
      "628949330\n",
      "390577534\n"
     ]
    }
   ],
   "source": [
    "# Creacion de variables para distancias de planetas\n",
    "\n",
    "planeta_01 = 149597870\n",
    "planeta_02 = 778547200\n",
    "\n",
    "# Calculo de distancia entre planetas en kilometros y millas con redondeo\n",
    "\n",
    "distancia_km = planeta_02 - planeta_01\n",
    "print(distancia_km)\n",
    "\n",
    "distancia_mi = round(distancia_km * 0.621)\n",
    "print(distancia_mi)"
   ]
  },
  {
   "cell_type": "markdown",
   "metadata": {},
   "source": [
    "Caso 2"
   ]
  },
  {
   "cell_type": "code",
   "execution_count": 5,
   "metadata": {},
   "outputs": [
    {
     "name": "stdout",
     "output_type": "stream",
     "text": [
      "50100000\n",
      "31112100\n"
     ]
    }
   ],
   "source": [
    "# Solicitar distancia de los planetas a los usuarios y conversion a enteros\n",
    "\n",
    "planeta_01 = int(input('Introduzca la distancia del sol para el primer planeta en KM'))\n",
    "planeta_02 = int(input('Introduzca la distancia desde el sol para el segundo planeta en KM'))\n",
    "\n",
    "# Realizar el cálculo y determinar el valor absoluto\n",
    "distancia_km = planeta_02 - planeta_01\n",
    "print(distancia_km)\n",
    "\n",
    "# Convertir de KM a Millas\n",
    "distancia_mi = round(distancia_km * 0.621)\n",
    "print(abs(distancia_mi))\n"
   ]
  }
 ],
 "metadata": {
  "interpreter": {
   "hash": "b89b5cfaba6639976dc87ff2fec6d58faec662063367e2c229c520fe71072417"
  },
  "kernelspec": {
   "display_name": "Python 3.10.2 64-bit",
   "language": "python",
   "name": "python3"
  },
  "language_info": {
   "codemirror_mode": {
    "name": "ipython",
    "version": 3
   },
   "file_extension": ".py",
   "mimetype": "text/x-python",
   "name": "python",
   "nbconvert_exporter": "python",
   "pygments_lexer": "ipython3",
   "version": "3.10.2"
  },
  "orig_nbformat": 4
 },
 "nbformat": 4,
 "nbformat_minor": 2
}
